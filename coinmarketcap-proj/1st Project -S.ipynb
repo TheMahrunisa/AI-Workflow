{
 "cells": [
  {
   "cell_type": "code",
   "execution_count": 1,
   "id": "f7918b96-19d5-408a-b9f3-ac0a1cd6d527",
   "metadata": {},
   "outputs": [],
   "source": [
    "import pandas as pd\n",
    "import matplotlib.pyplot as plt"
   ]
  },
  {
   "cell_type": "code",
   "execution_count": 2,
   "id": "f6262634-2f51-45ed-a3ab-c19044cb13e6",
   "metadata": {},
   "outputs": [],
   "source": [
    "dec6 = pd.read_csv('coinmarketcap_06122017.csv')"
   ]
  },
  {
   "cell_type": "code",
   "execution_count": 3,
   "id": "8fa413ae-e90b-4ada-b5b0-604c7a3cf851",
   "metadata": {},
   "outputs": [
    {
     "data": {
      "text/html": [
       "<div>\n",
       "<style scoped>\n",
       "    .dataframe tbody tr th:only-of-type {\n",
       "        vertical-align: middle;\n",
       "    }\n",
       "\n",
       "    .dataframe tbody tr th {\n",
       "        vertical-align: top;\n",
       "    }\n",
       "\n",
       "    .dataframe thead th {\n",
       "        text-align: right;\n",
       "    }\n",
       "</style>\n",
       "<table border=\"1\" class=\"dataframe\">\n",
       "  <thead>\n",
       "    <tr style=\"text-align: right;\">\n",
       "      <th></th>\n",
       "      <th>Unnamed: 0</th>\n",
       "      <th>24h_volume_usd</th>\n",
       "      <th>available_supply</th>\n",
       "      <th>id</th>\n",
       "      <th>last_updated</th>\n",
       "      <th>market_cap_usd</th>\n",
       "      <th>max_supply</th>\n",
       "      <th>name</th>\n",
       "      <th>percent_change_1h</th>\n",
       "      <th>percent_change_24h</th>\n",
       "      <th>percent_change_7d</th>\n",
       "      <th>price_btc</th>\n",
       "      <th>price_usd</th>\n",
       "      <th>rank</th>\n",
       "      <th>symbol</th>\n",
       "      <th>total_supply</th>\n",
       "    </tr>\n",
       "  </thead>\n",
       "  <tbody>\n",
       "    <tr>\n",
       "      <th>0</th>\n",
       "      <td>0</td>\n",
       "      <td>9.007640e+09</td>\n",
       "      <td>1.672352e+07</td>\n",
       "      <td>bitcoin</td>\n",
       "      <td>1512549554</td>\n",
       "      <td>2.130493e+11</td>\n",
       "      <td>2.100000e+07</td>\n",
       "      <td>Bitcoin</td>\n",
       "      <td>0.12</td>\n",
       "      <td>7.33</td>\n",
       "      <td>17.45</td>\n",
       "      <td>1.000000e+00</td>\n",
       "      <td>12739.500000</td>\n",
       "      <td>1</td>\n",
       "      <td>BTC</td>\n",
       "      <td>1.672352e+07</td>\n",
       "    </tr>\n",
       "    <tr>\n",
       "      <th>1</th>\n",
       "      <td>1</td>\n",
       "      <td>1.551330e+09</td>\n",
       "      <td>9.616537e+07</td>\n",
       "      <td>ethereum</td>\n",
       "      <td>1512549553</td>\n",
       "      <td>4.352945e+10</td>\n",
       "      <td>NaN</td>\n",
       "      <td>Ethereum</td>\n",
       "      <td>-0.18</td>\n",
       "      <td>-3.93</td>\n",
       "      <td>-7.33</td>\n",
       "      <td>3.617670e-02</td>\n",
       "      <td>452.652000</td>\n",
       "      <td>2</td>\n",
       "      <td>ETH</td>\n",
       "      <td>9.616537e+07</td>\n",
       "    </tr>\n",
       "    <tr>\n",
       "      <th>2</th>\n",
       "      <td>2</td>\n",
       "      <td>1.111350e+09</td>\n",
       "      <td>1.684044e+07</td>\n",
       "      <td>bitcoin-cash</td>\n",
       "      <td>1512549578</td>\n",
       "      <td>2.529585e+10</td>\n",
       "      <td>2.100000e+07</td>\n",
       "      <td>Bitcoin Cash</td>\n",
       "      <td>1.65</td>\n",
       "      <td>-5.51</td>\n",
       "      <td>-4.75</td>\n",
       "      <td>1.200500e-01</td>\n",
       "      <td>1502.090000</td>\n",
       "      <td>3</td>\n",
       "      <td>BCH</td>\n",
       "      <td>1.684044e+07</td>\n",
       "    </tr>\n",
       "    <tr>\n",
       "      <th>3</th>\n",
       "      <td>3</td>\n",
       "      <td>2.936090e+09</td>\n",
       "      <td>2.779530e+09</td>\n",
       "      <td>iota</td>\n",
       "      <td>1512549571</td>\n",
       "      <td>1.475225e+10</td>\n",
       "      <td>2.779530e+09</td>\n",
       "      <td>IOTA</td>\n",
       "      <td>-2.38</td>\n",
       "      <td>83.35</td>\n",
       "      <td>255.82</td>\n",
       "      <td>4.241800e-04</td>\n",
       "      <td>5.307460</td>\n",
       "      <td>4</td>\n",
       "      <td>MIOTA</td>\n",
       "      <td>2.779530e+09</td>\n",
       "    </tr>\n",
       "    <tr>\n",
       "      <th>4</th>\n",
       "      <td>4</td>\n",
       "      <td>2.315050e+08</td>\n",
       "      <td>3.873915e+10</td>\n",
       "      <td>ripple</td>\n",
       "      <td>1512549541</td>\n",
       "      <td>9.365343e+09</td>\n",
       "      <td>1.000000e+11</td>\n",
       "      <td>Ripple</td>\n",
       "      <td>0.56</td>\n",
       "      <td>-3.70</td>\n",
       "      <td>-14.79</td>\n",
       "      <td>1.932000e-05</td>\n",
       "      <td>0.241754</td>\n",
       "      <td>5</td>\n",
       "      <td>XRP</td>\n",
       "      <td>9.999309e+10</td>\n",
       "    </tr>\n",
       "    <tr>\n",
       "      <th>...</th>\n",
       "      <td>...</td>\n",
       "      <td>...</td>\n",
       "      <td>...</td>\n",
       "      <td>...</td>\n",
       "      <td>...</td>\n",
       "      <td>...</td>\n",
       "      <td>...</td>\n",
       "      <td>...</td>\n",
       "      <td>...</td>\n",
       "      <td>...</td>\n",
       "      <td>...</td>\n",
       "      <td>...</td>\n",
       "      <td>...</td>\n",
       "      <td>...</td>\n",
       "      <td>...</td>\n",
       "      <td>...</td>\n",
       "    </tr>\n",
       "    <tr>\n",
       "      <th>1321</th>\n",
       "      <td>1321</td>\n",
       "      <td>NaN</td>\n",
       "      <td>NaN</td>\n",
       "      <td>turbocoin</td>\n",
       "      <td>1512368664</td>\n",
       "      <td>NaN</td>\n",
       "      <td>NaN</td>\n",
       "      <td>TurboCoin</td>\n",
       "      <td>NaN</td>\n",
       "      <td>NaN</td>\n",
       "      <td>8.12</td>\n",
       "      <td>1.000000e-08</td>\n",
       "      <td>0.000114</td>\n",
       "      <td>1322</td>\n",
       "      <td>TURBO</td>\n",
       "      <td>NaN</td>\n",
       "    </tr>\n",
       "    <tr>\n",
       "      <th>1322</th>\n",
       "      <td>1322</td>\n",
       "      <td>NaN</td>\n",
       "      <td>NaN</td>\n",
       "      <td>birds</td>\n",
       "      <td>1512535772</td>\n",
       "      <td>NaN</td>\n",
       "      <td>NaN</td>\n",
       "      <td>Birds</td>\n",
       "      <td>NaN</td>\n",
       "      <td>10.62</td>\n",
       "      <td>-42.10</td>\n",
       "      <td>1.000000e-08</td>\n",
       "      <td>0.000122</td>\n",
       "      <td>1323</td>\n",
       "      <td>BIRDS</td>\n",
       "      <td>NaN</td>\n",
       "    </tr>\n",
       "    <tr>\n",
       "      <th>1323</th>\n",
       "      <td>1323</td>\n",
       "      <td>NaN</td>\n",
       "      <td>NaN</td>\n",
       "      <td>bitcoincashscrypt</td>\n",
       "      <td>1512548078</td>\n",
       "      <td>NaN</td>\n",
       "      <td>NaN</td>\n",
       "      <td>BitcoinCashScrypt</td>\n",
       "      <td>-0.37</td>\n",
       "      <td>-37.39</td>\n",
       "      <td>-27.69</td>\n",
       "      <td>5.000000e-07</td>\n",
       "      <td>0.006202</td>\n",
       "      <td>1324</td>\n",
       "      <td>BCCS</td>\n",
       "      <td>2.502380e+06</td>\n",
       "    </tr>\n",
       "    <tr>\n",
       "      <th>1324</th>\n",
       "      <td>1324</td>\n",
       "      <td>NaN</td>\n",
       "      <td>NaN</td>\n",
       "      <td>swisscoin</td>\n",
       "      <td>1512540278</td>\n",
       "      <td>NaN</td>\n",
       "      <td>NaN</td>\n",
       "      <td>Swisscoin</td>\n",
       "      <td>NaN</td>\n",
       "      <td>4.39</td>\n",
       "      <td>-22.84</td>\n",
       "      <td>1.000000e-08</td>\n",
       "      <td>0.000123</td>\n",
       "      <td>1325</td>\n",
       "      <td>SIC</td>\n",
       "      <td>1.020000e+10</td>\n",
       "    </tr>\n",
       "    <tr>\n",
       "      <th>1325</th>\n",
       "      <td>1325</td>\n",
       "      <td>NaN</td>\n",
       "      <td>NaN</td>\n",
       "      <td>faceblock</td>\n",
       "      <td>1512435283</td>\n",
       "      <td>NaN</td>\n",
       "      <td>NaN</td>\n",
       "      <td>Faceblock</td>\n",
       "      <td>NaN</td>\n",
       "      <td>NaN</td>\n",
       "      <td>-6.83</td>\n",
       "      <td>1.400000e-07</td>\n",
       "      <td>0.001654</td>\n",
       "      <td>1326</td>\n",
       "      <td>FBL</td>\n",
       "      <td>1.000000e+07</td>\n",
       "    </tr>\n",
       "  </tbody>\n",
       "</table>\n",
       "<p>1326 rows × 16 columns</p>\n",
       "</div>"
      ],
      "text/plain": [
       "      Unnamed: 0  24h_volume_usd  available_supply                 id  \\\n",
       "0              0    9.007640e+09      1.672352e+07            bitcoin   \n",
       "1              1    1.551330e+09      9.616537e+07           ethereum   \n",
       "2              2    1.111350e+09      1.684044e+07       bitcoin-cash   \n",
       "3              3    2.936090e+09      2.779530e+09               iota   \n",
       "4              4    2.315050e+08      3.873915e+10             ripple   \n",
       "...          ...             ...               ...                ...   \n",
       "1321        1321             NaN               NaN          turbocoin   \n",
       "1322        1322             NaN               NaN              birds   \n",
       "1323        1323             NaN               NaN  bitcoincashscrypt   \n",
       "1324        1324             NaN               NaN          swisscoin   \n",
       "1325        1325             NaN               NaN          faceblock   \n",
       "\n",
       "      last_updated  market_cap_usd    max_supply               name  \\\n",
       "0       1512549554    2.130493e+11  2.100000e+07            Bitcoin   \n",
       "1       1512549553    4.352945e+10           NaN           Ethereum   \n",
       "2       1512549578    2.529585e+10  2.100000e+07       Bitcoin Cash   \n",
       "3       1512549571    1.475225e+10  2.779530e+09               IOTA   \n",
       "4       1512549541    9.365343e+09  1.000000e+11             Ripple   \n",
       "...            ...             ...           ...                ...   \n",
       "1321    1512368664             NaN           NaN          TurboCoin   \n",
       "1322    1512535772             NaN           NaN              Birds   \n",
       "1323    1512548078             NaN           NaN  BitcoinCashScrypt   \n",
       "1324    1512540278             NaN           NaN          Swisscoin   \n",
       "1325    1512435283             NaN           NaN          Faceblock   \n",
       "\n",
       "      percent_change_1h  percent_change_24h  percent_change_7d     price_btc  \\\n",
       "0                  0.12                7.33              17.45  1.000000e+00   \n",
       "1                 -0.18               -3.93              -7.33  3.617670e-02   \n",
       "2                  1.65               -5.51              -4.75  1.200500e-01   \n",
       "3                 -2.38               83.35             255.82  4.241800e-04   \n",
       "4                  0.56               -3.70             -14.79  1.932000e-05   \n",
       "...                 ...                 ...                ...           ...   \n",
       "1321                NaN                 NaN               8.12  1.000000e-08   \n",
       "1322                NaN               10.62             -42.10  1.000000e-08   \n",
       "1323              -0.37              -37.39             -27.69  5.000000e-07   \n",
       "1324                NaN                4.39             -22.84  1.000000e-08   \n",
       "1325                NaN                 NaN              -6.83  1.400000e-07   \n",
       "\n",
       "         price_usd  rank symbol  total_supply  \n",
       "0     12739.500000     1    BTC  1.672352e+07  \n",
       "1       452.652000     2    ETH  9.616537e+07  \n",
       "2      1502.090000     3    BCH  1.684044e+07  \n",
       "3         5.307460     4  MIOTA  2.779530e+09  \n",
       "4         0.241754     5    XRP  9.999309e+10  \n",
       "...            ...   ...    ...           ...  \n",
       "1321      0.000114  1322  TURBO           NaN  \n",
       "1322      0.000122  1323  BIRDS           NaN  \n",
       "1323      0.006202  1324   BCCS  2.502380e+06  \n",
       "1324      0.000123  1325    SIC  1.020000e+10  \n",
       "1325      0.001654  1326    FBL  1.000000e+07  \n",
       "\n",
       "[1326 rows x 16 columns]"
      ]
     },
     "execution_count": 3,
     "metadata": {},
     "output_type": "execute_result"
    }
   ],
   "source": [
    "dec6"
   ]
  },
  {
   "cell_type": "markdown",
   "id": "14f3addd-382d-4527-8ea9-d47f6a568cfe",
   "metadata": {},
   "source": [
    "# Selecting the 'datasets', 'id' and the 'market_cap_usd' columns"
   ]
  },
  {
   "cell_type": "code",
   "execution_count": 4,
   "id": "3668b819-2b86-4af5-8689-8badd9d7acad",
   "metadata": {},
   "outputs": [],
   "source": [
    "market_cap_raw = dec6[['id', 'market_cap_usd']]"
   ]
  },
  {
   "cell_type": "code",
   "execution_count": 5,
   "id": "20ed1e25-3796-4c57-bf25-0f5b7c1c2307",
   "metadata": {},
   "outputs": [
    {
     "data": {
      "text/html": [
       "<div>\n",
       "<style scoped>\n",
       "    .dataframe tbody tr th:only-of-type {\n",
       "        vertical-align: middle;\n",
       "    }\n",
       "\n",
       "    .dataframe tbody tr th {\n",
       "        vertical-align: top;\n",
       "    }\n",
       "\n",
       "    .dataframe thead th {\n",
       "        text-align: right;\n",
       "    }\n",
       "</style>\n",
       "<table border=\"1\" class=\"dataframe\">\n",
       "  <thead>\n",
       "    <tr style=\"text-align: right;\">\n",
       "      <th></th>\n",
       "      <th>id</th>\n",
       "      <th>market_cap_usd</th>\n",
       "    </tr>\n",
       "  </thead>\n",
       "  <tbody>\n",
       "    <tr>\n",
       "      <th>0</th>\n",
       "      <td>bitcoin</td>\n",
       "      <td>2.130493e+11</td>\n",
       "    </tr>\n",
       "    <tr>\n",
       "      <th>1</th>\n",
       "      <td>ethereum</td>\n",
       "      <td>4.352945e+10</td>\n",
       "    </tr>\n",
       "    <tr>\n",
       "      <th>2</th>\n",
       "      <td>bitcoin-cash</td>\n",
       "      <td>2.529585e+10</td>\n",
       "    </tr>\n",
       "    <tr>\n",
       "      <th>3</th>\n",
       "      <td>iota</td>\n",
       "      <td>1.475225e+10</td>\n",
       "    </tr>\n",
       "    <tr>\n",
       "      <th>4</th>\n",
       "      <td>ripple</td>\n",
       "      <td>9.365343e+09</td>\n",
       "    </tr>\n",
       "    <tr>\n",
       "      <th>...</th>\n",
       "      <td>...</td>\n",
       "      <td>...</td>\n",
       "    </tr>\n",
       "    <tr>\n",
       "      <th>1321</th>\n",
       "      <td>turbocoin</td>\n",
       "      <td>NaN</td>\n",
       "    </tr>\n",
       "    <tr>\n",
       "      <th>1322</th>\n",
       "      <td>birds</td>\n",
       "      <td>NaN</td>\n",
       "    </tr>\n",
       "    <tr>\n",
       "      <th>1323</th>\n",
       "      <td>bitcoincashscrypt</td>\n",
       "      <td>NaN</td>\n",
       "    </tr>\n",
       "    <tr>\n",
       "      <th>1324</th>\n",
       "      <td>swisscoin</td>\n",
       "      <td>NaN</td>\n",
       "    </tr>\n",
       "    <tr>\n",
       "      <th>1325</th>\n",
       "      <td>faceblock</td>\n",
       "      <td>NaN</td>\n",
       "    </tr>\n",
       "  </tbody>\n",
       "</table>\n",
       "<p>1326 rows × 2 columns</p>\n",
       "</div>"
      ],
      "text/plain": [
       "                     id  market_cap_usd\n",
       "0               bitcoin    2.130493e+11\n",
       "1              ethereum    4.352945e+10\n",
       "2          bitcoin-cash    2.529585e+10\n",
       "3                  iota    1.475225e+10\n",
       "4                ripple    9.365343e+09\n",
       "...                 ...             ...\n",
       "1321          turbocoin             NaN\n",
       "1322              birds             NaN\n",
       "1323  bitcoincashscrypt             NaN\n",
       "1324          swisscoin             NaN\n",
       "1325          faceblock             NaN\n",
       "\n",
       "[1326 rows x 2 columns]"
      ]
     },
     "execution_count": 5,
     "metadata": {},
     "output_type": "execute_result"
    }
   ],
   "source": [
    "market_cap_raw"
   ]
  },
  {
   "cell_type": "code",
   "execution_count": 6,
   "id": "77d3029b-bc19-4a9d-bcea-814561211141",
   "metadata": {},
   "outputs": [],
   "source": [
    "#ca = market_cap_raw[market_cap_raw['market_cap_usd'] > 0]"
   ]
  },
  {
   "cell_type": "code",
   "execution_count": 7,
   "id": "f67e7049-77ad-4e68-867a-46908cf2557d",
   "metadata": {},
   "outputs": [],
   "source": [
    "# type(ca)"
   ]
  },
  {
   "cell_type": "markdown",
   "id": "5c48bc15-8e69-4a9a-a41e-3861e84e8acb",
   "metadata": {},
   "source": [
    "# Discard the cryptocurrencies"
   ]
  },
  {
   "cell_type": "code",
   "execution_count": 8,
   "id": "0cd7c86a-d785-4d25-b02f-b2caa05e5645",
   "metadata": {},
   "outputs": [],
   "source": [
    "cap = market_cap_raw.query('market_cap_usd >0')"
   ]
  },
  {
   "cell_type": "code",
   "execution_count": 9,
   "id": "25929b0a-3ec1-415f-8969-a756c4dba39e",
   "metadata": {},
   "outputs": [
    {
     "data": {
      "text/plain": [
       "id                1031\n",
       "market_cap_usd    1031\n",
       "dtype: int64"
      ]
     },
     "execution_count": 9,
     "metadata": {},
     "output_type": "execute_result"
    }
   ],
   "source": [
    "cap.count()"
   ]
  },
  {
   "cell_type": "code",
   "execution_count": 10,
   "id": "d0b0b88a-9596-454e-abce-10372fab02e4",
   "metadata": {},
   "outputs": [
    {
     "data": {
      "text/plain": [
       "id                False\n",
       "market_cap_usd    False\n",
       "dtype: bool"
      ]
     },
     "execution_count": 10,
     "metadata": {},
     "output_type": "execute_result"
    }
   ],
   "source": [
    "cap.isna().any()"
   ]
  },
  {
   "cell_type": "code",
   "execution_count": 11,
   "id": "55505f7e-ad56-4cf0-ac8c-74735a556ff4",
   "metadata": {},
   "outputs": [],
   "source": [
    "cap10 = cap.head(10).set_index('id').sort_index()\n",
    "#cap10 = cap.head(10).set_index('id', inplace = True ).sort_index() # for parmanent change"
   ]
  },
  {
   "cell_type": "code",
   "execution_count": 12,
   "id": "6b609215-187e-4564-8dde-76a066ba85da",
   "metadata": {},
   "outputs": [
    {
     "data": {
      "text/html": [
       "<div>\n",
       "<style scoped>\n",
       "    .dataframe tbody tr th:only-of-type {\n",
       "        vertical-align: middle;\n",
       "    }\n",
       "\n",
       "    .dataframe tbody tr th {\n",
       "        vertical-align: top;\n",
       "    }\n",
       "\n",
       "    .dataframe thead th {\n",
       "        text-align: right;\n",
       "    }\n",
       "</style>\n",
       "<table border=\"1\" class=\"dataframe\">\n",
       "  <thead>\n",
       "    <tr style=\"text-align: right;\">\n",
       "      <th></th>\n",
       "      <th>market_cap_usd</th>\n",
       "    </tr>\n",
       "    <tr>\n",
       "      <th>id</th>\n",
       "      <th></th>\n",
       "    </tr>\n",
       "  </thead>\n",
       "  <tbody>\n",
       "    <tr>\n",
       "      <th>bitcoin</th>\n",
       "      <td>2.130493e+11</td>\n",
       "    </tr>\n",
       "    <tr>\n",
       "      <th>bitcoin-cash</th>\n",
       "      <td>2.529585e+10</td>\n",
       "    </tr>\n",
       "    <tr>\n",
       "      <th>bitcoin-gold</th>\n",
       "      <td>4.920065e+09</td>\n",
       "    </tr>\n",
       "    <tr>\n",
       "      <th>cardano</th>\n",
       "      <td>3.231420e+09</td>\n",
       "    </tr>\n",
       "    <tr>\n",
       "      <th>dash</th>\n",
       "      <td>5.794076e+09</td>\n",
       "    </tr>\n",
       "    <tr>\n",
       "      <th>ethereum</th>\n",
       "      <td>4.352945e+10</td>\n",
       "    </tr>\n",
       "    <tr>\n",
       "      <th>iota</th>\n",
       "      <td>1.475225e+10</td>\n",
       "    </tr>\n",
       "    <tr>\n",
       "      <th>litecoin</th>\n",
       "      <td>5.634498e+09</td>\n",
       "    </tr>\n",
       "    <tr>\n",
       "      <th>monero</th>\n",
       "      <td>4.331688e+09</td>\n",
       "    </tr>\n",
       "    <tr>\n",
       "      <th>ripple</th>\n",
       "      <td>9.365343e+09</td>\n",
       "    </tr>\n",
       "  </tbody>\n",
       "</table>\n",
       "</div>"
      ],
      "text/plain": [
       "              market_cap_usd\n",
       "id                          \n",
       "bitcoin         2.130493e+11\n",
       "bitcoin-cash    2.529585e+10\n",
       "bitcoin-gold    4.920065e+09\n",
       "cardano         3.231420e+09\n",
       "dash            5.794076e+09\n",
       "ethereum        4.352945e+10\n",
       "iota            1.475225e+10\n",
       "litecoin        5.634498e+09\n",
       "monero          4.331688e+09\n",
       "ripple          9.365343e+09"
      ]
     },
     "execution_count": 12,
     "metadata": {},
     "output_type": "execute_result"
    }
   ],
   "source": [
    "cap10"
   ]
  },
  {
   "cell_type": "code",
   "execution_count": 13,
   "id": "8cc23122-e5be-4e53-9465-dd735b804913",
   "metadata": {},
   "outputs": [],
   "source": [
    "# cap.agg(['count']) # convert in datadfarame"
   ]
  },
  {
   "cell_type": "markdown",
   "id": "a7625e08-ffbd-43df-b5f7-90bc02538602",
   "metadata": {},
   "source": [
    "#  How big is Bitcoin compared with the rest of the cryptocurrencies?"
   ]
  },
  {
   "cell_type": "code",
   "execution_count": 14,
   "id": "949b344e-2d68-4491-bd01-15a5ef37075a",
   "metadata": {},
   "outputs": [],
   "source": [
    "TOP_CAP_TITLE = 'Top 10 market capitalization'                 # constant variables should be in Capitaliz \n",
    "TOP_CAP_YLABEL = '% of total cap'"
   ]
  },
  {
   "cell_type": "code",
   "execution_count": 15,
   "id": "60d106aa-feb9-43b1-baee-9655ffba4029",
   "metadata": {},
   "outputs": [],
   "source": [
    "# Selecting the first 10 rows and setting the index\n",
    "cap10 = cap.iloc[:10].set_index('id')"
   ]
  },
  {
   "cell_type": "code",
   "execution_count": 16,
   "id": "8d12a37b-6b9b-4f08-ad7a-6931c869475e",
   "metadata": {},
   "outputs": [],
   "source": [
    "# Calculating market_cap_perc      # assign fun add new coulnms\n",
    "cap10 = cap10.assign(market_cap_perc = lambda x:\n",
    "                     (x.market_cap_usd / cap.market_cap_usd.sum()) * 100)"
   ]
  },
  {
   "cell_type": "code",
   "execution_count": 17,
   "id": "d1c05a77-b11e-44fb-9f9a-777a95ae0b75",
   "metadata": {},
   "outputs": [
    {
     "data": {
      "text/html": [
       "<div>\n",
       "<style scoped>\n",
       "    .dataframe tbody tr th:only-of-type {\n",
       "        vertical-align: middle;\n",
       "    }\n",
       "\n",
       "    .dataframe tbody tr th {\n",
       "        vertical-align: top;\n",
       "    }\n",
       "\n",
       "    .dataframe thead th {\n",
       "        text-align: right;\n",
       "    }\n",
       "</style>\n",
       "<table border=\"1\" class=\"dataframe\">\n",
       "  <thead>\n",
       "    <tr style=\"text-align: right;\">\n",
       "      <th></th>\n",
       "      <th>market_cap_usd</th>\n",
       "      <th>market_cap_perc</th>\n",
       "    </tr>\n",
       "    <tr>\n",
       "      <th>id</th>\n",
       "      <th></th>\n",
       "      <th></th>\n",
       "    </tr>\n",
       "  </thead>\n",
       "  <tbody>\n",
       "    <tr>\n",
       "      <th>bitcoin</th>\n",
       "      <td>2.130493e+11</td>\n",
       "      <td>56.918669</td>\n",
       "    </tr>\n",
       "    <tr>\n",
       "      <th>ethereum</th>\n",
       "      <td>4.352945e+10</td>\n",
       "      <td>11.629410</td>\n",
       "    </tr>\n",
       "    <tr>\n",
       "      <th>bitcoin-cash</th>\n",
       "      <td>2.529585e+10</td>\n",
       "      <td>6.758088</td>\n",
       "    </tr>\n",
       "    <tr>\n",
       "      <th>iota</th>\n",
       "      <td>1.475225e+10</td>\n",
       "      <td>3.941238</td>\n",
       "    </tr>\n",
       "    <tr>\n",
       "      <th>ripple</th>\n",
       "      <td>9.365343e+09</td>\n",
       "      <td>2.502063</td>\n",
       "    </tr>\n",
       "    <tr>\n",
       "      <th>dash</th>\n",
       "      <td>5.794076e+09</td>\n",
       "      <td>1.547956</td>\n",
       "    </tr>\n",
       "    <tr>\n",
       "      <th>litecoin</th>\n",
       "      <td>5.634498e+09</td>\n",
       "      <td>1.505323</td>\n",
       "    </tr>\n",
       "    <tr>\n",
       "      <th>bitcoin-gold</th>\n",
       "      <td>4.920065e+09</td>\n",
       "      <td>1.314454</td>\n",
       "    </tr>\n",
       "    <tr>\n",
       "      <th>monero</th>\n",
       "      <td>4.331688e+09</td>\n",
       "      <td>1.157262</td>\n",
       "    </tr>\n",
       "    <tr>\n",
       "      <th>cardano</th>\n",
       "      <td>3.231420e+09</td>\n",
       "      <td>0.863312</td>\n",
       "    </tr>\n",
       "  </tbody>\n",
       "</table>\n",
       "</div>"
      ],
      "text/plain": [
       "              market_cap_usd  market_cap_perc\n",
       "id                                           \n",
       "bitcoin         2.130493e+11        56.918669\n",
       "ethereum        4.352945e+10        11.629410\n",
       "bitcoin-cash    2.529585e+10         6.758088\n",
       "iota            1.475225e+10         3.941238\n",
       "ripple          9.365343e+09         2.502063\n",
       "dash            5.794076e+09         1.547956\n",
       "litecoin        5.634498e+09         1.505323\n",
       "bitcoin-gold    4.920065e+09         1.314454\n",
       "monero          4.331688e+09         1.157262\n",
       "cardano         3.231420e+09         0.863312"
      ]
     },
     "execution_count": 17,
     "metadata": {},
     "output_type": "execute_result"
    }
   ],
   "source": [
    "cap10"
   ]
  },
  {
   "cell_type": "code",
   "execution_count": 18,
   "id": "4e8b8410-5c61-4592-a2f8-8e3469747902",
   "metadata": {},
   "outputs": [
    {
     "data": {
      "text/plain": [
       "1031"
      ]
     },
     "execution_count": 18,
     "metadata": {},
     "output_type": "execute_result"
    }
   ],
   "source": [
    "len(cap)"
   ]
  },
  {
   "cell_type": "code",
   "execution_count": 19,
   "id": "5a387150-a6bf-409d-b849-3ab8944c915f",
   "metadata": {},
   "outputs": [
    {
     "data": {
      "text/plain": [
       "213049346738.0"
      ]
     },
     "execution_count": 19,
     "metadata": {},
     "output_type": "execute_result"
    }
   ],
   "source": [
    "cap10.iloc[0, 0]"
   ]
  },
  {
   "cell_type": "code",
   "execution_count": 20,
   "id": "32ec0d78-517d-4d16-8053-41ef66116be2",
   "metadata": {},
   "outputs": [],
   "source": [
    "s = cap.market_cap_usd.sum()"
   ]
  },
  {
   "cell_type": "code",
   "execution_count": 21,
   "id": "5ee18a8b-4098-4abd-b31e-dd9671808f6d",
   "metadata": {},
   "outputs": [],
   "source": [
    "market_cap_perc_list = []\n",
    "for i in range(len(cap)):\n",
    "    market_cap_perc_list.append(((cap.iloc[2, 1])/ s) * 100)"
   ]
  },
  {
   "cell_type": "code",
   "execution_count": 22,
   "id": "76cff710-485c-4dd3-a422-1d673ee28be0",
   "metadata": {},
   "outputs": [],
   "source": [
    "#cap10.columns = [col.replace('', '_').lower() for col in cap10.columns]"
   ]
  },
  {
   "cell_type": "code",
   "execution_count": 23,
   "id": "cb69f6f7-2702-4d46-a735-325ceeb64ce1",
   "metadata": {},
   "outputs": [
    {
     "data": {
      "text/html": [
       "<div>\n",
       "<style scoped>\n",
       "    .dataframe tbody tr th:only-of-type {\n",
       "        vertical-align: middle;\n",
       "    }\n",
       "\n",
       "    .dataframe tbody tr th {\n",
       "        vertical-align: top;\n",
       "    }\n",
       "\n",
       "    .dataframe thead th {\n",
       "        text-align: right;\n",
       "    }\n",
       "</style>\n",
       "<table border=\"1\" class=\"dataframe\">\n",
       "  <thead>\n",
       "    <tr style=\"text-align: right;\">\n",
       "      <th></th>\n",
       "      <th>market_cap_usd</th>\n",
       "      <th>market_cap_perc</th>\n",
       "    </tr>\n",
       "    <tr>\n",
       "      <th>id</th>\n",
       "      <th></th>\n",
       "      <th></th>\n",
       "    </tr>\n",
       "  </thead>\n",
       "  <tbody>\n",
       "    <tr>\n",
       "      <th>bitcoin</th>\n",
       "      <td>2.130493e+11</td>\n",
       "      <td>56.918669</td>\n",
       "    </tr>\n",
       "    <tr>\n",
       "      <th>ethereum</th>\n",
       "      <td>4.352945e+10</td>\n",
       "      <td>11.629410</td>\n",
       "    </tr>\n",
       "    <tr>\n",
       "      <th>bitcoin-cash</th>\n",
       "      <td>2.529585e+10</td>\n",
       "      <td>6.758088</td>\n",
       "    </tr>\n",
       "    <tr>\n",
       "      <th>iota</th>\n",
       "      <td>1.475225e+10</td>\n",
       "      <td>3.941238</td>\n",
       "    </tr>\n",
       "    <tr>\n",
       "      <th>ripple</th>\n",
       "      <td>9.365343e+09</td>\n",
       "      <td>2.502063</td>\n",
       "    </tr>\n",
       "    <tr>\n",
       "      <th>dash</th>\n",
       "      <td>5.794076e+09</td>\n",
       "      <td>1.547956</td>\n",
       "    </tr>\n",
       "    <tr>\n",
       "      <th>litecoin</th>\n",
       "      <td>5.634498e+09</td>\n",
       "      <td>1.505323</td>\n",
       "    </tr>\n",
       "    <tr>\n",
       "      <th>bitcoin-gold</th>\n",
       "      <td>4.920065e+09</td>\n",
       "      <td>1.314454</td>\n",
       "    </tr>\n",
       "    <tr>\n",
       "      <th>monero</th>\n",
       "      <td>4.331688e+09</td>\n",
       "      <td>1.157262</td>\n",
       "    </tr>\n",
       "    <tr>\n",
       "      <th>cardano</th>\n",
       "      <td>3.231420e+09</td>\n",
       "      <td>0.863312</td>\n",
       "    </tr>\n",
       "  </tbody>\n",
       "</table>\n",
       "</div>"
      ],
      "text/plain": [
       "              market_cap_usd  market_cap_perc\n",
       "id                                           \n",
       "bitcoin         2.130493e+11        56.918669\n",
       "ethereum        4.352945e+10        11.629410\n",
       "bitcoin-cash    2.529585e+10         6.758088\n",
       "iota            1.475225e+10         3.941238\n",
       "ripple          9.365343e+09         2.502063\n",
       "dash            5.794076e+09         1.547956\n",
       "litecoin        5.634498e+09         1.505323\n",
       "bitcoin-gold    4.920065e+09         1.314454\n",
       "monero          4.331688e+09         1.157262\n",
       "cardano         3.231420e+09         0.863312"
      ]
     },
     "execution_count": 23,
     "metadata": {},
     "output_type": "execute_result"
    }
   ],
   "source": [
    "cap10"
   ]
  },
  {
   "cell_type": "code",
   "execution_count": 24,
   "id": "a8bf1c44-e04d-4dc1-a0a7-8153f6793a40",
   "metadata": {},
   "outputs": [],
   "source": [
    "ser1 = pd.Series(market_cap_perc_list)"
   ]
  },
  {
   "cell_type": "code",
   "execution_count": 25,
   "id": "b5572b09-4f25-4c5e-b4de-75c625ae8c93",
   "metadata": {},
   "outputs": [
    {
     "data": {
      "text/html": [
       "<div>\n",
       "<style scoped>\n",
       "    .dataframe tbody tr th:only-of-type {\n",
       "        vertical-align: middle;\n",
       "    }\n",
       "\n",
       "    .dataframe tbody tr th {\n",
       "        vertical-align: top;\n",
       "    }\n",
       "\n",
       "    .dataframe thead th {\n",
       "        text-align: right;\n",
       "    }\n",
       "</style>\n",
       "<table border=\"1\" class=\"dataframe\">\n",
       "  <thead>\n",
       "    <tr style=\"text-align: right;\">\n",
       "      <th></th>\n",
       "      <th>0</th>\n",
       "      <th>id</th>\n",
       "      <th>market_cap_perc</th>\n",
       "      <th>market_cap_usd</th>\n",
       "    </tr>\n",
       "  </thead>\n",
       "  <tbody>\n",
       "    <tr>\n",
       "      <th>0</th>\n",
       "      <td>NaN</td>\n",
       "      <td>bitcoin</td>\n",
       "      <td>56.918669</td>\n",
       "      <td>2.130493e+11</td>\n",
       "    </tr>\n",
       "    <tr>\n",
       "      <th>1</th>\n",
       "      <td>NaN</td>\n",
       "      <td>ethereum</td>\n",
       "      <td>11.629410</td>\n",
       "      <td>4.352945e+10</td>\n",
       "    </tr>\n",
       "    <tr>\n",
       "      <th>2</th>\n",
       "      <td>NaN</td>\n",
       "      <td>bitcoin-cash</td>\n",
       "      <td>6.758088</td>\n",
       "      <td>2.529585e+10</td>\n",
       "    </tr>\n",
       "    <tr>\n",
       "      <th>3</th>\n",
       "      <td>NaN</td>\n",
       "      <td>iota</td>\n",
       "      <td>3.941238</td>\n",
       "      <td>1.475225e+10</td>\n",
       "    </tr>\n",
       "    <tr>\n",
       "      <th>4</th>\n",
       "      <td>NaN</td>\n",
       "      <td>ripple</td>\n",
       "      <td>2.502063</td>\n",
       "      <td>9.365343e+09</td>\n",
       "    </tr>\n",
       "    <tr>\n",
       "      <th>...</th>\n",
       "      <td>...</td>\n",
       "      <td>...</td>\n",
       "      <td>...</td>\n",
       "      <td>...</td>\n",
       "    </tr>\n",
       "    <tr>\n",
       "      <th>1026</th>\n",
       "      <td>6.758088</td>\n",
       "      <td>NaN</td>\n",
       "      <td>NaN</td>\n",
       "      <td>NaN</td>\n",
       "    </tr>\n",
       "    <tr>\n",
       "      <th>1027</th>\n",
       "      <td>6.758088</td>\n",
       "      <td>NaN</td>\n",
       "      <td>NaN</td>\n",
       "      <td>NaN</td>\n",
       "    </tr>\n",
       "    <tr>\n",
       "      <th>1028</th>\n",
       "      <td>6.758088</td>\n",
       "      <td>NaN</td>\n",
       "      <td>NaN</td>\n",
       "      <td>NaN</td>\n",
       "    </tr>\n",
       "    <tr>\n",
       "      <th>1029</th>\n",
       "      <td>6.758088</td>\n",
       "      <td>NaN</td>\n",
       "      <td>NaN</td>\n",
       "      <td>NaN</td>\n",
       "    </tr>\n",
       "    <tr>\n",
       "      <th>1030</th>\n",
       "      <td>6.758088</td>\n",
       "      <td>NaN</td>\n",
       "      <td>NaN</td>\n",
       "      <td>NaN</td>\n",
       "    </tr>\n",
       "  </tbody>\n",
       "</table>\n",
       "<p>1041 rows × 4 columns</p>\n",
       "</div>"
      ],
      "text/plain": [
       "             0            id  market_cap_perc  market_cap_usd\n",
       "0          NaN       bitcoin        56.918669    2.130493e+11\n",
       "1          NaN      ethereum        11.629410    4.352945e+10\n",
       "2          NaN  bitcoin-cash         6.758088    2.529585e+10\n",
       "3          NaN          iota         3.941238    1.475225e+10\n",
       "4          NaN        ripple         2.502063    9.365343e+09\n",
       "...        ...           ...              ...             ...\n",
       "1026  6.758088           NaN              NaN             NaN\n",
       "1027  6.758088           NaN              NaN             NaN\n",
       "1028  6.758088           NaN              NaN             NaN\n",
       "1029  6.758088           NaN              NaN             NaN\n",
       "1030  6.758088           NaN              NaN             NaN\n",
       "\n",
       "[1041 rows x 4 columns]"
      ]
     },
     "execution_count": 25,
     "metadata": {},
     "output_type": "execute_result"
    }
   ],
   "source": [
    "pd.concat([cap10.reset_index(), ser1], axis = 0)"
   ]
  },
  {
   "cell_type": "code",
   "execution_count": 26,
   "id": "eeb23dc6-264d-4cf0-bf8b-2a9e26a47273",
   "metadata": {},
   "outputs": [
    {
     "data": {
      "text/html": [
       "<div>\n",
       "<style scoped>\n",
       "    .dataframe tbody tr th:only-of-type {\n",
       "        vertical-align: middle;\n",
       "    }\n",
       "\n",
       "    .dataframe tbody tr th {\n",
       "        vertical-align: top;\n",
       "    }\n",
       "\n",
       "    .dataframe thead th {\n",
       "        text-align: right;\n",
       "    }\n",
       "</style>\n",
       "<table border=\"1\" class=\"dataframe\">\n",
       "  <thead>\n",
       "    <tr style=\"text-align: right;\">\n",
       "      <th></th>\n",
       "      <th>market_cap_usd</th>\n",
       "      <th>market_cap_perc</th>\n",
       "    </tr>\n",
       "    <tr>\n",
       "      <th>id</th>\n",
       "      <th></th>\n",
       "      <th></th>\n",
       "    </tr>\n",
       "  </thead>\n",
       "  <tbody>\n",
       "    <tr>\n",
       "      <th>bitcoin</th>\n",
       "      <td>2.130493e+11</td>\n",
       "      <td>56.918669</td>\n",
       "    </tr>\n",
       "    <tr>\n",
       "      <th>ethereum</th>\n",
       "      <td>4.352945e+10</td>\n",
       "      <td>11.629410</td>\n",
       "    </tr>\n",
       "  </tbody>\n",
       "</table>\n",
       "</div>"
      ],
      "text/plain": [
       "          market_cap_usd  market_cap_perc\n",
       "id                                       \n",
       "bitcoin     2.130493e+11        56.918669\n",
       "ethereum    4.352945e+10        11.629410"
      ]
     },
     "execution_count": 26,
     "metadata": {},
     "output_type": "execute_result"
    }
   ],
   "source": [
    "cap10.head(2)"
   ]
  },
  {
   "cell_type": "code",
   "execution_count": 27,
   "id": "6a4d02c2-266d-408f-82e9-bd4b4e51b0f8",
   "metadata": {},
   "outputs": [
    {
     "data": {
      "image/png": "[encoded data removed]",
      "text/plain": [
       "<Figure size 432x288 with 1 Axes>"
      ]
     },
     "metadata": {
      "needs_background": "light"
     },
     "output_type": "display_data"
    }
   ],
   "source": [
    "# Plotting the barplot with the title defined above \n",
    "ax = cap10.plot.bar(title=TOP_CAP_TITLE)"
   ]
  },
  {
   "cell_type": "markdown",
   "id": "6e5454af-e5a5-4d14-b064-6a52d7a88076",
   "metadata": {},
   "source": [
    "# Making the plot easier to read and more informative"
   ]
  },
  {
   "cell_type": "code",
   "execution_count": 28,
   "id": "1ad85109-99e1-4356-9b7e-0dfd7ac3d80a",
   "metadata": {},
   "outputs": [],
   "source": [
    "COLORS = ['orange', 'green', 'orange', 'cyan', 'cyan', 'blue', 'silver', 'orange', 'red', 'green']\n"
   ]
  },
  {
   "cell_type": "code",
   "execution_count": 37,
   "id": "a1010647-6f1f-4761-a973-241346aebea6",
   "metadata": {},
   "outputs": [
    {
     "data": {
      "image/png": "[encoded data removed]",
      "text/plain": [
       "<Figure size 432x288 with 1 Axes>"
      ]
     },
     "metadata": {
      "needs_background": "light"
     },
     "output_type": "display_data"
    }
   ],
   "source": [
    "# Plotting market_cap_usd as before but adding the colors and scaling the y-axis  \n",
    "ax = cap10.market_cap_usd.plot.bar(color=COLORS, logy=True, title=TOP_CAP_TITLE)\n",
    "# Annotating the y axis with 'USD'\n",
    "ax.set_ylabel('USD');\n",
    "# Final touch! Removing the xlabel as it is not very informative\n",
    "ax.set_xlabel('');"
   ]
  },
  {
   "cell_type": "markdown",
   "id": "462857d1-773d-49c4-8bdd-05c94664d512",
   "metadata": {},
   "source": [
    "# What is going on?! Volatility in cryptocurrencies"
   ]
  },
  {
   "cell_type": "code",
   "execution_count": 30,
   "id": "96330f1a-341f-45c5-97b8-7857afd7949b",
   "metadata": {},
   "outputs": [],
   "source": [
    "volatility = dec6[['id', 'percent_change_24h', 'percent_change_7d']]"
   ]
  },
  {
   "cell_type": "code",
   "execution_count": 31,
   "id": "27195aa1-a85d-4f22-9dcf-a184d84ff4ee",
   "metadata": {},
   "outputs": [
    {
     "data": {
      "text/html": [
       "<div>\n",
       "<style scoped>\n",
       "    .dataframe tbody tr th:only-of-type {\n",
       "        vertical-align: middle;\n",
       "    }\n",
       "\n",
       "    .dataframe tbody tr th {\n",
       "        vertical-align: top;\n",
       "    }\n",
       "\n",
       "    .dataframe thead th {\n",
       "        text-align: right;\n",
       "    }\n",
       "</style>\n",
       "<table border=\"1\" class=\"dataframe\">\n",
       "  <thead>\n",
       "    <tr style=\"text-align: right;\">\n",
       "      <th></th>\n",
       "      <th>percent_change_24h</th>\n",
       "      <th>percent_change_7d</th>\n",
       "    </tr>\n",
       "    <tr>\n",
       "      <th>id</th>\n",
       "      <th></th>\n",
       "      <th></th>\n",
       "    </tr>\n",
       "  </thead>\n",
       "  <tbody>\n",
       "    <tr>\n",
       "      <th>flappycoin</th>\n",
       "      <td>-95.85</td>\n",
       "      <td>-96.61</td>\n",
       "    </tr>\n",
       "    <tr>\n",
       "      <th>credence-coin</th>\n",
       "      <td>-94.22</td>\n",
       "      <td>-95.31</td>\n",
       "    </tr>\n",
       "    <tr>\n",
       "      <th>coupecoin</th>\n",
       "      <td>-93.93</td>\n",
       "      <td>-61.24</td>\n",
       "    </tr>\n",
       "    <tr>\n",
       "      <th>tyrocoin</th>\n",
       "      <td>-79.02</td>\n",
       "      <td>-87.43</td>\n",
       "    </tr>\n",
       "    <tr>\n",
       "      <th>petrodollar</th>\n",
       "      <td>-76.55</td>\n",
       "      <td>542.96</td>\n",
       "    </tr>\n",
       "  </tbody>\n",
       "</table>\n",
       "</div>"
      ],
      "text/plain": [
       "               percent_change_24h  percent_change_7d\n",
       "id                                                  \n",
       "flappycoin                 -95.85             -96.61\n",
       "credence-coin              -94.22             -95.31\n",
       "coupecoin                  -93.93             -61.24\n",
       "tyrocoin                   -79.02             -87.43\n",
       "petrodollar                -76.55             542.96"
      ]
     },
     "execution_count": 31,
     "metadata": {},
     "output_type": "execute_result"
    }
   ],
   "source": [
    "# Setting the index to 'id' and dropping all NaN rows\n",
    "volatility = volatility.set_index('id').dropna()\n",
    "\n",
    "# Sorting the DataFrame by percent_change_24h in ascending order\n",
    "volatility = volatility.sort_values(by='percent_change_24h', ascending=True)\n",
    "\n",
    "# Checking the first few rows\n",
    "volatility.head()"
   ]
  },
  {
   "cell_type": "markdown",
   "id": "ed1a02f4-85b3-4241-93e8-7b572d70e50d",
   "metadata": {},
   "source": [
    "# Well, we can already see that things are a bit crazy"
   ]
  },
  {
   "cell_type": "code",
   "execution_count": 32,
   "id": "18501658-aea6-4355-b1f0-46864f9cb27c",
   "metadata": {},
   "outputs": [
    {
     "data": {
      "image/png": "[encoded data removed]",
      "text/plain": [
       "<Figure size 720x432 with 2 Axes>"
      ]
     },
     "metadata": {
      "needs_background": "light"
     },
     "output_type": "display_data"
    }
   ],
   "source": [
    "def top10_subplot(volatility_series, title):\n",
    "    # Making the subplot and the figure for two side by side plots\n",
    "    fig, axes = plt.subplots(nrows=1, ncols=2, figsize=(10, 6));\n",
    "    \n",
    "    # Plotting with pandas the barchart for the top 10 losers\n",
    "    ax = volatility_series.iloc[:10].plot.bar(color='darkred', ax=axes[0])\n",
    "    \n",
    "    # Setting the figure's main title to the text passed as parameter\n",
    "    fig.suptitle(title)\n",
    "    \n",
    "    # Setting the ylabel to '% change'\n",
    "    ax.set_ylabel('% change')\n",
    "    \n",
    "    # Same as above, but for the top 10 winners\n",
    "    ax = volatility_series.iloc[-10:].plot.bar(color='darkblue', ax=axes[1])\n",
    "    \n",
    "    plt.tight_layout()\n",
    "    # Returning this for good practice, might use later\n",
    "    return fig, ax\n",
    "\n",
    "DTITLE = \"24 hours top losers and winners\"\n",
    "\n",
    "# Calling the function above with the 24 hours period series and title DTITLE  \n",
    "fig, ax = top10_subplot(volatility.percent_change_24h, DTITLE)"
   ]
  },
  {
   "cell_type": "markdown",
   "id": "ec1f9e2a-4103-4809-bc23-e5d0bfb5c38a",
   "metadata": {},
   "source": [
    "# Ok, those are... interesting. Let's check the weekly Series too."
   ]
  },
  {
   "cell_type": "code",
   "execution_count": 33,
   "id": "e56ceadc-5731-4294-98f3-bd04b8814797",
   "metadata": {},
   "outputs": [
    {
     "data": {
      "image/png": "[encoded data removed]",
      "text/plain": [
       "<Figure size 720x432 with 2 Axes>"
      ]
     },
     "metadata": {
      "needs_background": "light"
     },
     "output_type": "display_data"
    }
   ],
   "source": [
    "volatility7d = volatility.sort_values(by='percent_change_7d', ascending=True)\n",
    "\n",
    "WTITLE = \"Weekly top losers and winners\"\n",
    "\n",
    "# Calling the top10_subplot function\n",
    "fig, ax = top10_subplot(volatility7d.percent_change_7d, WTITLE)"
   ]
  },
  {
   "cell_type": "markdown",
   "id": "07e68430-860f-4d1e-b7ef-2c71ecf0e016",
   "metadata": {},
   "source": [
    "# How small is small?"
   ]
  },
  {
   "cell_type": "code",
   "execution_count": 39,
   "id": "985d4ff6-9e13-43f6-8602-852461f3d813",
   "metadata": {},
   "outputs": [
    {
     "data": {
      "text/html": [
       "<div>\n",
       "<style scoped>\n",
       "    .dataframe tbody tr th:only-of-type {\n",
       "        vertical-align: middle;\n",
       "    }\n",
       "\n",
       "    .dataframe tbody tr th {\n",
       "        vertical-align: top;\n",
       "    }\n",
       "\n",
       "    .dataframe thead th {\n",
       "        text-align: right;\n",
       "    }\n",
       "</style>\n",
       "<table border=\"1\" class=\"dataframe\">\n",
       "  <thead>\n",
       "    <tr style=\"text-align: right;\">\n",
       "      <th></th>\n",
       "      <th>id</th>\n",
       "      <th>market_cap_usd</th>\n",
       "    </tr>\n",
       "  </thead>\n",
       "  <tbody>\n",
       "    <tr>\n",
       "      <th>0</th>\n",
       "      <td>bitcoin</td>\n",
       "      <td>2.130493e+11</td>\n",
       "    </tr>\n",
       "    <tr>\n",
       "      <th>1</th>\n",
       "      <td>ethereum</td>\n",
       "      <td>4.352945e+10</td>\n",
       "    </tr>\n",
       "    <tr>\n",
       "      <th>2</th>\n",
       "      <td>bitcoin-cash</td>\n",
       "      <td>2.529585e+10</td>\n",
       "    </tr>\n",
       "    <tr>\n",
       "      <th>3</th>\n",
       "      <td>iota</td>\n",
       "      <td>1.475225e+10</td>\n",
       "    </tr>\n",
       "  </tbody>\n",
       "</table>\n",
       "</div>"
      ],
      "text/plain": [
       "             id  market_cap_usd\n",
       "0       bitcoin    2.130493e+11\n",
       "1      ethereum    4.352945e+10\n",
       "2  bitcoin-cash    2.529585e+10\n",
       "3          iota    1.475225e+10"
      ]
     },
     "execution_count": 39,
     "metadata": {},
     "output_type": "execute_result"
    }
   ],
   "source": [
    "largecaps = cap.query('market_cap_usd >= 10000000000')   # 10000000000 0r 1e + 10\n",
    "\n",
    "# Printing out largecaps\n",
    "largecaps.iloc[:5]"
   ]
  },
  {
   "cell_type": "markdown",
   "id": "69b0de1c-e8e8-4a19-8848-2313d6bc727b",
   "metadata": {},
   "source": [
    " # Most coins are tiny"
   ]
  },
  {
   "cell_type": "code",
   "execution_count": 42,
   "id": "25224ec8-4a8b-4cb1-a694-1f9a4de5ed9e",
   "metadata": {},
   "outputs": [
    {
     "data": {
      "image/png": "[encoded data removed]",
      "text/plain": [
       "<Figure size 432x288 with 1 Axes>"
      ]
     },
     "metadata": {
      "needs_background": "light"
     },
     "output_type": "display_data"
    }
   ],
   "source": [
    "# \"cap\" DataFrame. Returns an int.\n",
    "def capcount(query_string):\n",
    "    return cap.query(query_string).count().id\n",
    "\n",
    "# Labels for the plot\n",
    "LABELS = [\"biggish\", \"micro\", \"nano\"]\n",
    "\n",
    "# Using capcount count the biggish cryptos\n",
    "biggish = capcount('market_cap_usd > 3E+8')\n",
    "\n",
    "# Same as above for micro ...\n",
    "micro = capcount('market_cap_usd > 50000000 and market_cap_usd < 300000000') # 5e + 7  & 3e + 8\n",
    "\n",
    "# ... and for nano\n",
    "nano =  capcount('market_cap_usd < 50000000')\n",
    "\n",
    "# Making a list with the 3 counts\n",
    "values = [biggish, micro, nano]\n",
    "\n",
    "# Plotting them with matplotlib \n",
    "plt.bar(height=values, x=LABELS);"
   ]
  },
  {
   "cell_type": "code",
   "execution_count": null,
   "id": "472d8557-207f-4a52-84ee-28af0a84cd9d",
   "metadata": {},
   "outputs": [],
   "source": []
  }
 ],
 "metadata": {
  "kernelspec": {
   "display_name": "Python 3 (ipykernel)",
   "language": "python",
   "name": "python3"
  },
  "language_info": {
   "codemirror_mode": {
    "name": "ipython",
    "version": 3
   },
   "file_extension": ".py",
   "mimetype": "text/x-python",
   "name": "python",
   "nbconvert_exporter": "python",
   "pygments_lexer": "ipython3",
   "version": "3.9.7"
  },
  "toc-autonumbering": true,
  "toc-showtags": true
 },
 "nbformat": 4,
 "nbformat_minor": 5
}
